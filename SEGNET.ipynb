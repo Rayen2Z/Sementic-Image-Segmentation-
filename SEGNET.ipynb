{
  "nbformat": 4,
  "nbformat_minor": 0,
  "metadata": {
    "colab": {
      "name": "SEGNET.ipynb",
      "provenance": [],
      "collapsed_sections": []
    },
    "kernelspec": {
      "name": "python3",
      "display_name": "Python 3"
    },
    "language_info": {
      "name": "python"
    },
    "accelerator": "GPU"
  },
  "cells": [
    {
      "cell_type": "code",
      "execution_count": 1,
      "metadata": {
        "id": "Pu_6j7ZvLTMd"
      },
      "outputs": [],
      "source": [
        "\n",
        "import numpy as np \n",
        "import PIL.Image\n",
        "import matplotlib.pyplot as plt\n",
        "import tensorflow as tf\n",
        "from tensorflow.keras.layers import UpSampling2D, MaxPooling2D\n",
        "import matplotlib.image as mpimg\n",
        "from skimage.io import imread, imshow\n",
        "from skimage.transform import resize\n",
        "import cv2\n",
        "import os\n",
        "from tensorflow.keras.preprocessing.image import load_img\n",
        "import pandas as pd\n",
        "import random\n",
        "from tqdm import tqdm\n",
        "import glob\n",
        "from google.colab.patches import cv2_imshow\n",
        "from keras import backend as K\n",
        "from keras.layers import Layer\n",
        "from sklearn.metrics import accuracy_score\n",
        "from sklearn.metrics import precision_score\n",
        "from sklearn.metrics import recall_score\n",
        "from sklearn.metrics import f1_score \n",
        "\n",
        "\n",
        "\n"
      ]
    },
    {
      "cell_type": "code",
      "source": [
        "from google.colab import drive\n",
        "drive.mount('/content/drive')"
      ],
      "metadata": {
        "colab": {
          "base_uri": "https://localhost:8080/"
        },
        "id": "V4YRNChV-FU1",
        "outputId": "eb1c0ba3-62fe-47a7-b778-a622d3560363"
      },
      "execution_count": 2,
      "outputs": [
        {
          "output_type": "stream",
          "name": "stdout",
          "text": [
            "Mounted at /content/drive\n"
          ]
        }
      ]
    },
    {
      "cell_type": "markdown",
      "source": [
        "## Fonction qui parcour un directory et affiche des informations"
      ],
      "metadata": {
        "id": "uBIHZA7wj3rF"
      }
    },
    {
      "cell_type": "code",
      "source": [
        "def walk_through_dir(dir):\n",
        "  for dirpath, filenames , dirnames in os.walk(dir):\n",
        "    print('there are ',len(dirnames),' dir and ',len(filenames),' files in ',dirpath)"
      ],
      "metadata": {
        "id": "GF-vo_v7jZUk"
      },
      "execution_count": 3,
      "outputs": []
    },
    {
      "cell_type": "markdown",
      "source": [
        "## Fonction qui récupère les images x_train et y_train et les reshape en (224 , 224 , 3) depuis le drive "
      ],
      "metadata": {
        "id": "70QUltyin9fu"
      }
    },
    {
      "cell_type": "code",
      "source": [
        "def x_data(): \n",
        "\n",
        "  path= 'drive/MyDrive/Code/for_sharing/all_segmented'\n",
        "  folders=glob.glob(path+'/*')\n",
        "\n",
        "  for f in folders[::]: \n",
        "    if f.endswith('.json'):\n",
        "      folders.remove(f)\n",
        "\n",
        "  train_path=[]\n",
        "  test_path=[]\n",
        "\n",
        "  for plante in folders: \n",
        "\n",
        "    for img in glob.glob(plante+'/img.png'):\n",
        "  \n",
        "      if img.rfind('test') != -1 :\n",
        "\n",
        "        test_path.append(img)\n",
        "      else :\n",
        "\n",
        "        train_path.append(img)\n",
        "\n",
        "  train_path.sort()\n",
        "  test_path.sort()\n",
        "\n",
        "\n",
        "  x_train= np.zeros((len(train_path),224,224,3) , dtype=\"float32\")\n",
        "  x_test= np.zeros((len(test_path),224,224,3) , dtype=\"float32\")\n",
        "\n",
        "  \n",
        "\n",
        "  for i,path in enumerate(train_path):\n",
        "    image = np.asarray(PIL.Image.open(path)) \n",
        "    image= cv2.resize(image, (224,224))\n",
        "    #image= image/255\n",
        "    x_train[i]=image\n",
        "\n",
        "\n",
        "  \n",
        "  for i,path in enumerate(test_path) : \n",
        "    image = np.asarray(PIL.Image.open(path)) \n",
        "    image= cv2.resize(image, (224,224))\n",
        "    #image= image/255\n",
        "    x_test[i]=image\n",
        "    \n",
        "\n",
        "\n",
        "  return x_train , x_test\n"
      ],
      "metadata": {
        "id": "1LJycoLdLiK0"
      },
      "execution_count": 4,
      "outputs": []
    },
    {
      "cell_type": "markdown",
      "source": [
        "## Fonction qui permet de rendre une image Y (segmentée) sous forme ONE HOT ENCODING avec le shape (224 , 224 , 3)"
      ],
      "metadata": {
        "id": "5onIMEkqoVFC"
      }
    },
    {
      "cell_type": "code",
      "source": [
        "def one_hot(images):\n",
        "  data=list()\n",
        "  labels=[0,1,2]\n",
        "\n",
        "  for i in images: \n",
        "    temp= np.asarray(PIL.Image.open(i))\n",
        "    temp = cv2.resize(temp, (224,224))\n",
        "    new_format= np.zeros(temp.shape+(3,))\n",
        "    for l in labels :\n",
        "      new_format[temp==l,l]=1\n",
        "    data.append( new_format)\n",
        "\n",
        "  return data"
      ],
      "metadata": {
        "id": "4Qq63X7VFvGc"
      },
      "execution_count": 4,
      "outputs": []
    },
    {
      "cell_type": "markdown",
      "source": [
        "## Fonction qui permet de récupérer les images segmentées y_train du drive pour ensuite appeller la fonction ONE-HOT sur le resultat qui est retourné sous forme d'un array de taille : (nombre_image , 224 , 224 , 3) "
      ],
      "metadata": {
        "id": "vxGDRDpNoj04"
      }
    },
    {
      "cell_type": "code",
      "source": [
        "def Ytrain_data():\n",
        "\n",
        "\n",
        "  path = 'drive/MyDrive/Code/for_sharing/train'\n",
        "\n",
        "  folder = glob.glob(path+'/*')\n",
        "\n",
        "  y_train_path=[]\n",
        "\n",
        "  for path in folder:\n",
        "    for image in glob.glob(path+'/*.png'):\n",
        "      y_train_path.append(image)\n",
        "\n",
        "  y_train_path.sort()\n",
        "\n",
        "  return np.array(one_hot(y_train_path))\n",
        "\t"
      ],
      "metadata": {
        "id": "8HCLAeFwFwTF"
      },
      "execution_count": 5,
      "outputs": []
    },
    {
      "cell_type": "markdown",
      "source": [
        "## Fonction qui récupère les Y_test ( même fonctionnement que Y_train)"
      ],
      "metadata": {
        "id": "8GJD47vto6jx"
      }
    },
    {
      "cell_type": "code",
      "source": [
        "def Ytest_data():\n",
        "\n",
        "\n",
        "  path = 'drive/MyDrive/Code/for_sharing/test'\n",
        "\n",
        "  folder = glob.glob(path+'/*')\n",
        "\n",
        "  y_test_path=[]\n",
        "\n",
        "  for path in folder:\n",
        "    for image in glob.glob(path+'/*.png'):\n",
        "      y_test_path.append(image)\n",
        "\n",
        "  y_test_path.sort()\n",
        "\n",
        "  return np.array(one_hot(y_test_path))"
      ],
      "metadata": {
        "id": "NtebwOUMFwX6"
      },
      "execution_count": 6,
      "outputs": []
    },
    {
      "cell_type": "markdown",
      "source": [
        "## Définition de deux classes MaxPoolingwithArgmax2D et MaxUnpooling2D qui héritent de la classer LAYER  de tensorflow.Keras 🇰\n",
        "\n",
        " • MaxPoolingwithArgmax2D : vu qu'il n'existe pas de layer MaxPool qui stocke les indices des poolings prédifini sur Keras , j'ai du créer une nouvelle classe Layer qui utilise la fonction du backend Keras suivante : **K.tf.nn.max_pool_with_argmax** qui retounre deux elements : l'output du pooling et les indices du pooling sur la feature map .\n",
        "\n",
        "\n",
        "\n",
        " • MaxUnpooling2D : classe qui a pour but de faire un upSampling sous forme de Unpooling en utilisant les indices génerés par le layer précèdent .\n",
        "\n",
        "\n",
        " Les fonctions call sont appellées quand une input est donnée à une classe Layer. \n",
        "\n",
        "\n",
        "\n",
        "\n"
      ],
      "metadata": {
        "id": "xvaUI7DFpC6N"
      }
    },
    {
      "cell_type": "code",
      "source": [
        "from keras import backend as K\n",
        "from keras.layers import Layer\n",
        "\n",
        "\n",
        "class MaxPoolingWithArgmax2D(Layer):\n",
        "    def __init__(self, pool_size=(2, 2), strides=(2, 2), padding=\"same\", **kwargs):\n",
        "        super(MaxPoolingWithArgmax2D, self).__init__(**kwargs)\n",
        "        self.padding = padding\n",
        "        self.pool_size = pool_size\n",
        "        self.strides = strides\n",
        "\n",
        "    def call(self, inputs, **kwargs):\n",
        "        padding = self.padding\n",
        "        pool_size = self.pool_size\n",
        "        strides = self.strides\n",
        "        if K.backend() == \"tensorflow\":\n",
        "            ksize = [1, pool_size[0], pool_size[1], 1]\n",
        "            padding = padding.upper()\n",
        "            strides = [1, strides[0], strides[1], 1]\n",
        "            output, argmax = K.tf.nn.max_pool_with_argmax(\n",
        "                inputs, ksize=ksize, strides=strides, padding=padding\n",
        "            )\n",
        "        else:\n",
        "            errmsg = \"{} backend is not supported for layer {}\".format(\n",
        "                K.backend(), type(self).__name__\n",
        "            )\n",
        "            raise NotImplementedError(errmsg)\n",
        "        argmax = K.cast(argmax, K.floatx())\n",
        "        return [output, argmax]\n",
        "\n",
        "    def compute_output_shape(self, input_shape):\n",
        "        ratio = (1, 2, 2, 1)\n",
        "        output_shape = [\n",
        "            dim // ratio[idx] if dim is not None else None\n",
        "            for idx, dim in enumerate(input_shape)\n",
        "        ]\n",
        "        output_shape = tuple(output_shape)\n",
        "        return [output_shape, output_shape]\n",
        "\n",
        "    def compute_mask(self, inputs, mask=None):\n",
        "        return 2 * [None]\n",
        "\n",
        "\n",
        "class MaxUnpooling2D(Layer):\n",
        "    def __init__(self, size=(2, 2), **kwargs):\n",
        "        super(MaxUnpooling2D, self).__init__(**kwargs)\n",
        "        self.size = size\n",
        "\n",
        "    def call(self, inputs, output_shape=None):\n",
        "        updates, mask = inputs[0], inputs[1]\n",
        "        with K.tf.compat.v1.variable_scope(self.name):\n",
        "            mask = K.cast(mask, \"int32\")\n",
        "            input_shape = K.tf.shape(updates, out_type=\"int32\")\n",
        "            #  calculation new shape\n",
        "            if output_shape is None:\n",
        "                output_shape = (\n",
        "                    input_shape[0],\n",
        "                    input_shape[1] * self.size[0],\n",
        "                    input_shape[2] * self.size[1],\n",
        "                    input_shape[3],\n",
        "                )\n",
        "            self.output_shape1 = output_shape\n",
        "\n",
        "            # calculation indices for batch, height, width and feature maps\n",
        "            one_like_mask = K.ones_like(mask, dtype=\"int32\")\n",
        "            batch_shape = K.concatenate([[input_shape[0]], [1], [1], [1]], axis=0)\n",
        "            batch_range = K.reshape(\n",
        "                K.tf.range(output_shape[0], dtype=\"int32\"), shape=batch_shape\n",
        "            )\n",
        "            b = one_like_mask * batch_range\n",
        "            y = mask // (output_shape[2] * output_shape[3])\n",
        "            x = (mask // output_shape[3]) % output_shape[2]\n",
        "            feature_range = K.tf.range(output_shape[3], dtype=\"int32\")\n",
        "            f = one_like_mask * feature_range\n",
        "\n",
        "            # transpose indices & reshape update values to one dimension\n",
        "            updates_size = K.tf.size(updates)\n",
        "            indices = K.transpose(K.reshape(K.stack([b, y, x, f]), [4, updates_size]))\n",
        "            values = K.reshape(updates, [updates_size])\n",
        "            ret = K.tf.scatter_nd(indices, values, output_shape)\n",
        "            return ret\n",
        "\n",
        "    def compute_output_shape(self, input_shape):\n",
        "        mask_shape = input_shape[1]\n",
        "        return (\n",
        "            mask_shape[0],\n",
        "            mask_shape[1] * self.size[0],\n",
        "            mask_shape[2] * self.size[1],\n",
        "            mask_shape[3],\n",
        "        )"
      ],
      "metadata": {
        "id": "EEYDMh9TtiSv"
      },
      "execution_count": 5,
      "outputs": []
    },
    {
      "cell_type": "markdown",
      "source": [
        "## Définition du modele SEGNET comportant un encodeur avec la même architecture qu'un VGG16 (sauf la FC) et d'un décodeur utilisant des upsamplings en UNpooling avec les deux layers qu'on a définit juste avant pour la sauvegarde des indices du MaxPooling . \n",
        "\n",
        " • L'input shape est (224,224,3) \n",
        " • À la fin du décodeur , une softmax est appliquée sur chaques pixel des features maps "
      ],
      "metadata": {
        "id": "Xmoz4uGAqum2"
      }
    },
    {
      "cell_type": "code",
      "source": [
        "from keras.layers import Input\n",
        "from keras.layers.convolutional import Convolution2D\n",
        "from keras.layers import Activation, Reshape\n",
        "from keras.layers import BatchNormalization\n",
        "from keras.models import Model\n",
        "\n",
        "\n",
        "\n",
        "def segnet(input_shape, n_labels, kernel=3, pool_size=(2, 2), output_mode=\"softmax\"):\n",
        "    # encoder\n",
        "    inputs = Input(shape=input_shape)\n",
        "    \n",
        "\n",
        "    conv_1 = Convolution2D(64, (kernel, kernel), padding=\"same\")(inputs)\n",
        "    conv_1 = BatchNormalization()(conv_1)\n",
        "    conv_1 = Activation(\"relu\")(conv_1)\n",
        "    conv_2 = Convolution2D(64, (kernel, kernel), padding=\"same\")(conv_1)\n",
        "    conv_2 = BatchNormalization()(conv_2)\n",
        "    conv_2 = Activation(\"relu\")(conv_2)\n",
        "\n",
        "    pool_1, mask_1 = MaxPoolingWithArgmax2D(pool_size)(conv_2)\n",
        "\n",
        "    conv_3 = Convolution2D(128, (kernel, kernel), padding=\"same\")(pool_1)\n",
        "    conv_3 = BatchNormalization()(conv_3)\n",
        "    conv_3 = Activation(\"relu\")(conv_3)\n",
        "    conv_4 = Convolution2D(128, (kernel, kernel), padding=\"same\")(conv_3)\n",
        "    conv_4 = BatchNormalization()(conv_4)\n",
        "    conv_4 = Activation(\"relu\")(conv_4)\n",
        "\n",
        "    pool_2, mask_2 = MaxPoolingWithArgmax2D(pool_size)(conv_4)\n",
        "\n",
        "    conv_5 = Convolution2D(256, (kernel, kernel), padding=\"same\")(pool_2)\n",
        "    conv_5 = BatchNormalization()(conv_5)\n",
        "    conv_5 = Activation(\"relu\")(conv_5)\n",
        "    conv_6 = Convolution2D(256, (kernel, kernel), padding=\"same\")(conv_5)\n",
        "    conv_6 = BatchNormalization()(conv_6)\n",
        "    conv_6 = Activation(\"relu\")(conv_6)\n",
        "    conv_7 = Convolution2D(256, (kernel, kernel), padding=\"same\")(conv_6)\n",
        "    conv_7 = BatchNormalization()(conv_7)\n",
        "    conv_7 = Activation(\"relu\")(conv_7)\n",
        "\n",
        "    pool_3, mask_3 = MaxPoolingWithArgmax2D(pool_size)(conv_7)\n",
        "\n",
        "    conv_8 = Convolution2D(512, (kernel, kernel), padding=\"same\")(pool_3)\n",
        "    conv_8 = BatchNormalization()(conv_8)\n",
        "    conv_8 = Activation(\"relu\")(conv_8)\n",
        "    conv_9 = Convolution2D(512, (kernel, kernel), padding=\"same\")(conv_8)\n",
        "    conv_9 = BatchNormalization()(conv_9)\n",
        "    conv_9 = Activation(\"relu\")(conv_9)\n",
        "    conv_10 = Convolution2D(512, (kernel, kernel), padding=\"same\")(conv_9)\n",
        "    conv_10 = BatchNormalization()(conv_10)\n",
        "    conv_10 = Activation(\"relu\")(conv_10)\n",
        "\n",
        "    pool_4, mask_4 = MaxPoolingWithArgmax2D(pool_size)(conv_10)\n",
        "\n",
        "    conv_11 = Convolution2D(512, (kernel, kernel), padding=\"same\")(pool_4)\n",
        "    conv_11 = BatchNormalization()(conv_11)\n",
        "    conv_11 = Activation(\"relu\")(conv_11)\n",
        "    conv_12 = Convolution2D(512, (kernel, kernel), padding=\"same\")(conv_11)\n",
        "    conv_12 = BatchNormalization()(conv_12)\n",
        "    conv_12 = Activation(\"relu\")(conv_12)\n",
        "    conv_13 = Convolution2D(512, (kernel, kernel), padding=\"same\")(conv_12)\n",
        "    conv_13 = BatchNormalization()(conv_13)\n",
        "    conv_13 = Activation(\"relu\")(conv_13)\n",
        "\n",
        "    pool_5, mask_5 = MaxPoolingWithArgmax2D(pool_size)(conv_13)\n",
        "    print(\"Le Modele Encodeur est prêt..\")\n",
        "\n",
        "    # decoder\n",
        "\n",
        "    unpool_1 = MaxUnpooling2D(pool_size)([pool_5, mask_5])\n",
        "\n",
        "    conv_14 = Convolution2D(512, (kernel, kernel), padding=\"same\")(unpool_1)\n",
        "    conv_14 = BatchNormalization()(conv_14)\n",
        "    conv_14 = Activation(\"relu\")(conv_14)\n",
        "    conv_15 = Convolution2D(512, (kernel, kernel), padding=\"same\")(conv_14)\n",
        "    conv_15 = BatchNormalization()(conv_15)\n",
        "    conv_15 = Activation(\"relu\")(conv_15)\n",
        "    conv_16 = Convolution2D(512, (kernel, kernel), padding=\"same\")(conv_15)\n",
        "    conv_16 = BatchNormalization()(conv_16)\n",
        "    conv_16 = Activation(\"relu\")(conv_16)\n",
        "\n",
        "    unpool_2 = MaxUnpooling2D(pool_size)([conv_16, mask_4])\n",
        "\n",
        "    conv_17 = Convolution2D(512, (kernel, kernel), padding=\"same\")(unpool_2)\n",
        "    conv_17 = BatchNormalization()(conv_17)\n",
        "    conv_17 = Activation(\"relu\")(conv_17)\n",
        "    conv_18 = Convolution2D(512, (kernel, kernel), padding=\"same\")(conv_17)\n",
        "    conv_18 = BatchNormalization()(conv_18)\n",
        "    conv_18 = Activation(\"relu\")(conv_18)\n",
        "    conv_19 = Convolution2D(256, (kernel, kernel), padding=\"same\")(conv_18)\n",
        "    conv_19 = BatchNormalization()(conv_19)\n",
        "    conv_19 = Activation(\"relu\")(conv_19)\n",
        "\n",
        "    unpool_3 = MaxUnpooling2D(pool_size)([conv_19, mask_3])\n",
        "\n",
        "    conv_20 = Convolution2D(256, (kernel, kernel), padding=\"same\")(unpool_3)\n",
        "    conv_20 = BatchNormalization()(conv_20)\n",
        "    conv_20 = Activation(\"relu\")(conv_20)\n",
        "    conv_21 = Convolution2D(256, (kernel, kernel), padding=\"same\")(conv_20)\n",
        "    conv_21 = BatchNormalization()(conv_21)\n",
        "    conv_21 = Activation(\"relu\")(conv_21)\n",
        "    conv_22 = Convolution2D(128, (kernel, kernel), padding=\"same\")(conv_21)\n",
        "    conv_22 = BatchNormalization()(conv_22)\n",
        "    conv_22 = Activation(\"relu\")(conv_22)\n",
        "\n",
        "    unpool_4 = MaxUnpooling2D(pool_size)([conv_22, mask_2])\n",
        "\n",
        "    conv_23 = Convolution2D(128, (kernel, kernel), padding=\"same\")(unpool_4)\n",
        "    conv_23 = BatchNormalization()(conv_23)\n",
        "    conv_23 = Activation(\"relu\")(conv_23)\n",
        "    conv_24 = Convolution2D(64, (kernel, kernel), padding=\"same\")(conv_23)\n",
        "    conv_24 = BatchNormalization()(conv_24)\n",
        "    conv_24 = Activation(\"relu\")(conv_24)\n",
        "\n",
        "    unpool_5 = MaxUnpooling2D(pool_size)([conv_24, mask_1])\n",
        "\n",
        "    conv_25 = Convolution2D(64, (kernel, kernel), padding=\"same\")(unpool_5)\n",
        "    conv_25 = BatchNormalization()(conv_25)\n",
        "    conv_25 = Activation(\"relu\")(conv_25)\n",
        "\n",
        "    conv_26 = Convolution2D(n_labels, (1, 1), padding=\"valid\")(conv_25)\n",
        "    conv_26 = BatchNormalization()(conv_26)\n",
        "    conv_26 = Reshape(\n",
        "        (input_shape[0] , input_shape[1],n_labels),\n",
        "        input_shape=(input_shape[0], input_shape[1],n_labels),\n",
        "    )(conv_26)\n",
        "\n",
        "    outputs = Activation(output_mode)(conv_26)\n",
        "    print(\"Le Modele Decodeur est prêt..\")\n",
        "\n",
        "    model = Model(inputs=inputs, outputs=outputs, name=\"SegNet\")\n",
        "\n",
        "    return model"
      ],
      "metadata": {
        "id": "rzs8CFSM5x9x"
      },
      "execution_count": 6,
      "outputs": []
    },
    {
      "cell_type": "code",
      "source": [
        "model = segnet((224, 224, 3), 3)\n",
        "print(model.summary())"
      ],
      "metadata": {
        "id": "Neqglq0e9xOO"
      },
      "execution_count": null,
      "outputs": []
    },
    {
      "cell_type": "code",
      "source": [
        "model.compile(loss='categorical_crossentropy',optimizer='adam', metrics=['accuracy'])"
      ],
      "metadata": {
        "id": "q34cxHSQROo5"
      },
      "execution_count": 8,
      "outputs": []
    },
    {
      "cell_type": "code",
      "source": [
        "hist = model.fit(x_train,y_train, validation_data=(x_test, y_test),batch_size=8,epochs=100)"
      ],
      "metadata": {
        "colab": {
          "base_uri": "https://localhost:8080/"
        },
        "id": "3xYT3g-PRjWb",
        "outputId": "e58a65e6-555a-4880-af7c-a6c22ae216f4"
      },
      "execution_count": null,
      "outputs": [
        {
          "output_type": "stream",
          "name": "stdout",
          "text": [
            "Epoch 1/100\n",
            "23/23 [==============================] - 12s 399ms/step - loss: 1.1336 - accuracy: 0.4841 - val_loss: 1.0837 - val_accuracy: 0.4337\n",
            "Epoch 2/100\n",
            "23/23 [==============================] - 9s 375ms/step - loss: 0.9534 - accuracy: 0.5911 - val_loss: 1.0189 - val_accuracy: 0.3780\n",
            "Epoch 3/100\n",
            "23/23 [==============================] - 9s 384ms/step - loss: 0.8970 - accuracy: 0.6194 - val_loss: 0.9837 - val_accuracy: 0.3880\n",
            "Epoch 4/100\n",
            "23/23 [==============================] - 9s 385ms/step - loss: 0.8760 - accuracy: 0.6132 - val_loss: 0.9873 - val_accuracy: 0.5048\n",
            "Epoch 5/100\n",
            "23/23 [==============================] - 9s 376ms/step - loss: 0.8367 - accuracy: 0.6279 - val_loss: 0.8622 - val_accuracy: 0.6405\n",
            "Epoch 6/100\n",
            "23/23 [==============================] - 8s 369ms/step - loss: 0.8325 - accuracy: 0.6334 - val_loss: 0.7833 - val_accuracy: 0.6806\n",
            "Epoch 7/100\n",
            "23/23 [==============================] - 8s 366ms/step - loss: 0.8292 - accuracy: 0.6342 - val_loss: 0.8119 - val_accuracy: 0.6307\n",
            "Epoch 8/100\n",
            "23/23 [==============================] - 8s 364ms/step - loss: 0.8261 - accuracy: 0.6265 - val_loss: 0.7538 - val_accuracy: 0.6931\n",
            "Epoch 9/100\n",
            "23/23 [==============================] - 8s 364ms/step - loss: 0.8269 - accuracy: 0.6230 - val_loss: 0.7376 - val_accuracy: 0.7385\n",
            "Epoch 10/100\n",
            "23/23 [==============================] - 8s 365ms/step - loss: 0.8392 - accuracy: 0.6125 - val_loss: 0.7606 - val_accuracy: 0.7324\n",
            "Epoch 11/100\n",
            "23/23 [==============================] - 8s 367ms/step - loss: 0.8333 - accuracy: 0.6190 - val_loss: 0.7730 - val_accuracy: 0.7329\n",
            "Epoch 12/100\n",
            "23/23 [==============================] - 8s 370ms/step - loss: 0.8187 - accuracy: 0.6293 - val_loss: 0.7121 - val_accuracy: 0.7553\n",
            "Epoch 13/100\n",
            "23/23 [==============================] - 9s 372ms/step - loss: 0.7854 - accuracy: 0.6571 - val_loss: 0.7268 - val_accuracy: 0.6943\n",
            "Epoch 14/100\n",
            "23/23 [==============================] - 9s 371ms/step - loss: 0.7897 - accuracy: 0.6522 - val_loss: 0.6785 - val_accuracy: 0.7296\n",
            "Epoch 15/100\n",
            "23/23 [==============================] - 9s 371ms/step - loss: 0.7944 - accuracy: 0.6497 - val_loss: 0.7173 - val_accuracy: 0.6912\n",
            "Epoch 16/100\n",
            "23/23 [==============================] - 8s 369ms/step - loss: 0.7899 - accuracy: 0.6571 - val_loss: 0.6740 - val_accuracy: 0.7545\n",
            "Epoch 17/100\n",
            "23/23 [==============================] - 8s 368ms/step - loss: 0.7912 - accuracy: 0.6493 - val_loss: 0.6823 - val_accuracy: 0.7175\n",
            "Epoch 18/100\n",
            "23/23 [==============================] - 8s 367ms/step - loss: 0.7707 - accuracy: 0.6683 - val_loss: 0.7490 - val_accuracy: 0.6656\n",
            "Epoch 19/100\n",
            "23/23 [==============================] - 8s 367ms/step - loss: 0.7852 - accuracy: 0.6563 - val_loss: 0.6867 - val_accuracy: 0.7419\n",
            "Epoch 20/100\n",
            "23/23 [==============================] - 8s 367ms/step - loss: 0.7784 - accuracy: 0.6609 - val_loss: 0.7394 - val_accuracy: 0.6744\n",
            "Epoch 21/100\n",
            "23/23 [==============================] - 8s 368ms/step - loss: 0.7662 - accuracy: 0.6709 - val_loss: 0.7860 - val_accuracy: 0.6563\n",
            "Epoch 22/100\n",
            "23/23 [==============================] - 8s 368ms/step - loss: 0.7684 - accuracy: 0.6690 - val_loss: 0.7336 - val_accuracy: 0.6828\n",
            "Epoch 23/100\n",
            "23/23 [==============================] - 8s 369ms/step - loss: 0.7556 - accuracy: 0.6788 - val_loss: 0.7069 - val_accuracy: 0.6822\n",
            "Epoch 24/100\n",
            "23/23 [==============================] - 8s 369ms/step - loss: 0.7568 - accuracy: 0.6775 - val_loss: 0.7516 - val_accuracy: 0.7078\n",
            "Epoch 25/100\n",
            "23/23 [==============================] - 8s 369ms/step - loss: 0.7435 - accuracy: 0.6832 - val_loss: 0.6252 - val_accuracy: 0.7644\n",
            "Epoch 26/100\n",
            "23/23 [==============================] - 8s 369ms/step - loss: 0.7573 - accuracy: 0.6756 - val_loss: 0.6675 - val_accuracy: 0.7521\n",
            "Epoch 27/100\n",
            "23/23 [==============================] - 8s 369ms/step - loss: 0.7354 - accuracy: 0.6916 - val_loss: 0.6695 - val_accuracy: 0.7100\n",
            "Epoch 28/100\n",
            "23/23 [==============================] - 8s 369ms/step - loss: 0.7496 - accuracy: 0.6769 - val_loss: 0.6428 - val_accuracy: 0.7532\n",
            "Epoch 29/100\n",
            "23/23 [==============================] - 8s 369ms/step - loss: 0.7510 - accuracy: 0.6796 - val_loss: 0.6446 - val_accuracy: 0.7429\n",
            "Epoch 30/100\n",
            "23/23 [==============================] - 8s 368ms/step - loss: 0.7483 - accuracy: 0.6825 - val_loss: 0.7527 - val_accuracy: 0.6468\n",
            "Epoch 31/100\n",
            "23/23 [==============================] - 8s 368ms/step - loss: 0.7577 - accuracy: 0.6705 - val_loss: 0.7282 - val_accuracy: 0.6677\n",
            "Epoch 32/100\n",
            "23/23 [==============================] - 8s 367ms/step - loss: 0.7453 - accuracy: 0.6832 - val_loss: 0.7198 - val_accuracy: 0.6979\n",
            "Epoch 33/100\n",
            "23/23 [==============================] - 8s 368ms/step - loss: 0.7478 - accuracy: 0.6779 - val_loss: 0.6928 - val_accuracy: 0.7407\n",
            "Epoch 34/100\n",
            "23/23 [==============================] - 8s 368ms/step - loss: 0.7416 - accuracy: 0.6849 - val_loss: 0.8661 - val_accuracy: 0.6174\n",
            "Epoch 35/100\n",
            "23/23 [==============================] - 8s 368ms/step - loss: 0.7390 - accuracy: 0.6853 - val_loss: 0.8028 - val_accuracy: 0.6757\n",
            "Epoch 36/100\n",
            "23/23 [==============================] - 8s 368ms/step - loss: 0.7291 - accuracy: 0.6900 - val_loss: 0.7262 - val_accuracy: 0.7211\n",
            "Epoch 37/100\n",
            "23/23 [==============================] - 8s 368ms/step - loss: 0.7506 - accuracy: 0.6774 - val_loss: 0.6944 - val_accuracy: 0.7391\n",
            "Epoch 38/100\n",
            "23/23 [==============================] - 8s 368ms/step - loss: 0.7290 - accuracy: 0.6882 - val_loss: 0.8370 - val_accuracy: 0.6424\n",
            "Epoch 39/100\n",
            "23/23 [==============================] - 8s 367ms/step - loss: 0.7542 - accuracy: 0.6724 - val_loss: 0.6294 - val_accuracy: 0.7572\n",
            "Epoch 40/100\n",
            "23/23 [==============================] - 8s 368ms/step - loss: 0.7284 - accuracy: 0.6888 - val_loss: 0.6307 - val_accuracy: 0.7465\n",
            "Epoch 41/100\n",
            "23/23 [==============================] - 8s 367ms/step - loss: 0.7371 - accuracy: 0.6840 - val_loss: 0.6536 - val_accuracy: 0.7436\n",
            "Epoch 42/100\n",
            "23/23 [==============================] - 8s 368ms/step - loss: 0.7406 - accuracy: 0.6824 - val_loss: 0.6675 - val_accuracy: 0.7235\n",
            "Epoch 43/100\n",
            "23/23 [==============================] - 8s 368ms/step - loss: 0.7224 - accuracy: 0.6923 - val_loss: 0.6828 - val_accuracy: 0.7252\n",
            "Epoch 44/100\n",
            "23/23 [==============================] - 8s 368ms/step - loss: 0.7283 - accuracy: 0.6867 - val_loss: 0.6316 - val_accuracy: 0.7443\n",
            "Epoch 45/100\n",
            "23/23 [==============================] - 8s 367ms/step - loss: 0.7444 - accuracy: 0.6779 - val_loss: 0.6202 - val_accuracy: 0.7622\n",
            "Epoch 46/100\n",
            "23/23 [==============================] - 8s 367ms/step - loss: 0.7440 - accuracy: 0.6795 - val_loss: 0.6707 - val_accuracy: 0.7371\n",
            "Epoch 47/100\n",
            "23/23 [==============================] - 8s 367ms/step - loss: 0.7196 - accuracy: 0.6941 - val_loss: 0.5861 - val_accuracy: 0.7648\n",
            "Epoch 48/100\n",
            "23/23 [==============================] - 8s 367ms/step - loss: 0.7234 - accuracy: 0.6945 - val_loss: 0.5860 - val_accuracy: 0.7653\n",
            "Epoch 49/100\n",
            "23/23 [==============================] - 8s 368ms/step - loss: 0.7255 - accuracy: 0.6940 - val_loss: 0.6401 - val_accuracy: 0.7487\n",
            "Epoch 50/100\n",
            "23/23 [==============================] - 8s 368ms/step - loss: 0.7205 - accuracy: 0.6904 - val_loss: 0.6225 - val_accuracy: 0.7438\n",
            "Epoch 51/100\n",
            "23/23 [==============================] - 8s 368ms/step - loss: 0.7080 - accuracy: 0.6993 - val_loss: 0.7483 - val_accuracy: 0.6941\n",
            "Epoch 52/100\n",
            "23/23 [==============================] - 8s 369ms/step - loss: 0.7178 - accuracy: 0.6940 - val_loss: 0.7302 - val_accuracy: 0.6471\n",
            "Epoch 53/100\n",
            "23/23 [==============================] - 8s 368ms/step - loss: 0.7385 - accuracy: 0.6834 - val_loss: 0.6877 - val_accuracy: 0.7105\n",
            "Epoch 54/100\n",
            "23/23 [==============================] - 8s 368ms/step - loss: 0.7430 - accuracy: 0.6798 - val_loss: 0.6101 - val_accuracy: 0.7539\n",
            "Epoch 55/100\n",
            "23/23 [==============================] - 8s 369ms/step - loss: 0.7356 - accuracy: 0.6859 - val_loss: 0.5829 - val_accuracy: 0.7655\n",
            "Epoch 56/100\n",
            "23/23 [==============================] - 8s 369ms/step - loss: 0.7073 - accuracy: 0.6988 - val_loss: 0.5957 - val_accuracy: 0.7563\n",
            "Epoch 57/100\n",
            "23/23 [==============================] - 8s 369ms/step - loss: 0.7088 - accuracy: 0.7036 - val_loss: 0.6873 - val_accuracy: 0.6924\n",
            "Epoch 58/100\n",
            "23/23 [==============================] - 8s 369ms/step - loss: 0.7319 - accuracy: 0.6846 - val_loss: 0.6360 - val_accuracy: 0.7384\n",
            "Epoch 59/100\n",
            "23/23 [==============================] - 8s 369ms/step - loss: 0.7093 - accuracy: 0.6998 - val_loss: 0.7556 - val_accuracy: 0.6944\n",
            "Epoch 60/100\n",
            "23/23 [==============================] - 8s 368ms/step - loss: 0.7218 - accuracy: 0.6935 - val_loss: 0.6535 - val_accuracy: 0.7406\n",
            "Epoch 61/100\n",
            "23/23 [==============================] - 8s 369ms/step - loss: 0.7157 - accuracy: 0.6953 - val_loss: 0.7569 - val_accuracy: 0.6873\n",
            "Epoch 62/100\n",
            "23/23 [==============================] - 8s 369ms/step - loss: 0.7103 - accuracy: 0.6987 - val_loss: 0.7697 - val_accuracy: 0.6762\n",
            "Epoch 63/100\n",
            "23/23 [==============================] - 8s 369ms/step - loss: 0.7231 - accuracy: 0.6953 - val_loss: 0.8560 - val_accuracy: 0.6494\n",
            "Epoch 64/100\n",
            "23/23 [==============================] - 8s 368ms/step - loss: 0.7282 - accuracy: 0.6903 - val_loss: 0.6866 - val_accuracy: 0.7007\n",
            "Epoch 65/100\n",
            "23/23 [==============================] - 8s 369ms/step - loss: 0.7267 - accuracy: 0.6908 - val_loss: 0.6995 - val_accuracy: 0.7101\n",
            "Epoch 66/100\n",
            "23/23 [==============================] - 8s 369ms/step - loss: 0.7207 - accuracy: 0.6916 - val_loss: 0.7769 - val_accuracy: 0.6513\n",
            "Epoch 67/100\n",
            "23/23 [==============================] - 8s 369ms/step - loss: 0.7209 - accuracy: 0.6899 - val_loss: 0.6016 - val_accuracy: 0.7453\n",
            "Epoch 68/100\n",
            "23/23 [==============================] - 8s 369ms/step - loss: 0.7077 - accuracy: 0.6991 - val_loss: 0.6808 - val_accuracy: 0.7176\n",
            "Epoch 69/100\n",
            "23/23 [==============================] - 8s 370ms/step - loss: 0.6882 - accuracy: 0.7077 - val_loss: 0.5972 - val_accuracy: 0.7544\n",
            "Epoch 70/100\n",
            "23/23 [==============================] - 8s 370ms/step - loss: 0.6901 - accuracy: 0.7084 - val_loss: 0.6576 - val_accuracy: 0.7228\n",
            "Epoch 71/100\n",
            "23/23 [==============================] - 8s 369ms/step - loss: 0.6785 - accuracy: 0.7153 - val_loss: 0.6978 - val_accuracy: 0.6919\n",
            "Epoch 72/100\n",
            "23/23 [==============================] - 8s 369ms/step - loss: 0.7045 - accuracy: 0.7017 - val_loss: 0.6289 - val_accuracy: 0.7305\n",
            "Epoch 73/100\n",
            "23/23 [==============================] - 8s 369ms/step - loss: 0.7131 - accuracy: 0.7008 - val_loss: 0.5823 - val_accuracy: 0.7715\n",
            "Epoch 74/100\n",
            "23/23 [==============================] - 8s 369ms/step - loss: 0.6861 - accuracy: 0.7150 - val_loss: 0.7313 - val_accuracy: 0.6551\n",
            "Epoch 75/100\n",
            "23/23 [==============================] - 8s 369ms/step - loss: 0.7035 - accuracy: 0.7046 - val_loss: 0.6162 - val_accuracy: 0.7377\n",
            "Epoch 76/100\n",
            "23/23 [==============================] - 8s 369ms/step - loss: 0.6846 - accuracy: 0.7135 - val_loss: 0.5658 - val_accuracy: 0.7716\n",
            "Epoch 77/100\n",
            "23/23 [==============================] - 8s 368ms/step - loss: 0.6874 - accuracy: 0.7124 - val_loss: 0.5704 - val_accuracy: 0.7893\n",
            "Epoch 78/100\n",
            "23/23 [==============================] - 8s 367ms/step - loss: 0.6848 - accuracy: 0.7126 - val_loss: 0.6127 - val_accuracy: 0.7573\n",
            "Epoch 79/100\n",
            "23/23 [==============================] - 8s 367ms/step - loss: 0.6843 - accuracy: 0.7124 - val_loss: 0.6300 - val_accuracy: 0.7357\n",
            "Epoch 80/100\n",
            "23/23 [==============================] - 8s 367ms/step - loss: 0.6640 - accuracy: 0.7266 - val_loss: 0.6763 - val_accuracy: 0.7078\n",
            "Epoch 81/100\n",
            "23/23 [==============================] - 9s 373ms/step - loss: 0.6741 - accuracy: 0.7200 - val_loss: 0.7423 - val_accuracy: 0.6873\n",
            "Epoch 82/100\n",
            "23/23 [==============================] - 9s 374ms/step - loss: 0.7227 - accuracy: 0.6941 - val_loss: 0.7234 - val_accuracy: 0.6617\n",
            "Epoch 83/100\n",
            "23/23 [==============================] - 8s 369ms/step - loss: 0.7158 - accuracy: 0.6995 - val_loss: 0.6279 - val_accuracy: 0.7267\n",
            "Epoch 84/100\n",
            "23/23 [==============================] - 8s 369ms/step - loss: 0.6905 - accuracy: 0.7135 - val_loss: 0.6262 - val_accuracy: 0.7329\n",
            "Epoch 85/100\n",
            "23/23 [==============================] - 8s 368ms/step - loss: 0.6684 - accuracy: 0.7231 - val_loss: 0.6969 - val_accuracy: 0.7134\n",
            "Epoch 86/100\n",
            "23/23 [==============================] - 8s 369ms/step - loss: 0.6713 - accuracy: 0.7182 - val_loss: 0.6259 - val_accuracy: 0.7495\n",
            "Epoch 87/100\n",
            "23/23 [==============================] - 8s 369ms/step - loss: 0.6963 - accuracy: 0.7076 - val_loss: 0.5929 - val_accuracy: 0.7556\n",
            "Epoch 88/100\n",
            "23/23 [==============================] - 8s 369ms/step - loss: 0.7095 - accuracy: 0.7001 - val_loss: 0.6512 - val_accuracy: 0.7287\n",
            "Epoch 89/100\n",
            "23/23 [==============================] - 8s 369ms/step - loss: 0.6839 - accuracy: 0.7165 - val_loss: 0.5903 - val_accuracy: 0.7658\n",
            "Epoch 90/100\n",
            "23/23 [==============================] - 8s 369ms/step - loss: 0.6679 - accuracy: 0.7192 - val_loss: 0.5895 - val_accuracy: 0.7559\n",
            "Epoch 91/100\n",
            "23/23 [==============================] - 8s 368ms/step - loss: 0.6628 - accuracy: 0.7242 - val_loss: 0.6330 - val_accuracy: 0.7428\n",
            "Epoch 92/100\n",
            "23/23 [==============================] - 8s 368ms/step - loss: 0.6613 - accuracy: 0.7217 - val_loss: 0.6364 - val_accuracy: 0.7400\n",
            "Epoch 93/100\n",
            "23/23 [==============================] - 8s 369ms/step - loss: 0.6528 - accuracy: 0.7267 - val_loss: 0.6325 - val_accuracy: 0.7243\n",
            "Epoch 94/100\n",
            "23/23 [==============================] - 8s 369ms/step - loss: 0.6557 - accuracy: 0.7278 - val_loss: 0.6841 - val_accuracy: 0.7187\n",
            "Epoch 95/100\n",
            "23/23 [==============================] - 8s 368ms/step - loss: 0.6702 - accuracy: 0.7186 - val_loss: 0.6848 - val_accuracy: 0.7338\n",
            "Epoch 96/100\n",
            "23/23 [==============================] - 8s 368ms/step - loss: 0.7001 - accuracy: 0.7055 - val_loss: 0.7165 - val_accuracy: 0.7065\n",
            "Epoch 97/100\n",
            "23/23 [==============================] - 8s 368ms/step - loss: 0.7470 - accuracy: 0.6800 - val_loss: 0.6774 - val_accuracy: 0.7307\n",
            "Epoch 98/100\n",
            "23/23 [==============================] - 8s 368ms/step - loss: 0.7430 - accuracy: 0.6819 - val_loss: 0.6168 - val_accuracy: 0.7685\n",
            "Epoch 99/100\n",
            "23/23 [==============================] - 9s 374ms/step - loss: 0.7152 - accuracy: 0.6994 - val_loss: 0.7396 - val_accuracy: 0.6884\n",
            "Epoch 100/100\n",
            "23/23 [==============================] - 8s 368ms/step - loss: 0.7151 - accuracy: 0.6951 - val_loss: 0.5582 - val_accuracy: 0.7780\n"
          ]
        }
      ]
    },
    {
      "cell_type": "code",
      "source": [
        "\"\"\" \n",
        "Fonction qui permet de plot les courbes d'accuracy et de loss selon le train et le test \"\"\"\n",
        "\n",
        "\n",
        "def plot_loss_curves(history):\n",
        "\n",
        "  loss= history.history['loss']\n",
        "  accuracy= history.history['accuracy']\n",
        "\n",
        "  val_loss=history.history['val_loss']\n",
        "  val_accuracy=history.history['val_accuracy']\n",
        "\n",
        "  epochs= range(len(history.history['loss']))\n",
        "\n",
        "  plt.figure()\n",
        "  plt.plot(epochs, val_accuracy, label='validation accuracy')\n",
        "  plt.plot(epochs, accuracy ,label='training accuracy' )\n",
        "  \n",
        "  plt.title('accuracy')\n",
        "  plt.xlabel('epochs')\n",
        "  plt.legend()\n",
        "\n",
        "  plt.figure()\n",
        "  plt.plot(epochs, val_loss, label='validation loss')\n",
        "  plt.plot(epochs, loss ,label='training loss' )\n",
        "  \n",
        "  plt.title('loss')\n",
        "  plt.xlabel('epochs')\n",
        "  plt.legend()\n",
        "\n",
        "\n",
        "\n",
        "\n"
      ],
      "metadata": {
        "id": "nAFePlTFs2sX"
      },
      "execution_count": null,
      "outputs": []
    },
    {
      "cell_type": "code",
      "source": [
        "plot_loss_curves(hist)"
      ],
      "metadata": {
        "colab": {
          "base_uri": "https://localhost:8080/",
          "height": 573
        },
        "id": "eY0hWJ3s2gvo",
        "outputId": "15714653-d18d-40fb-9abb-f0ab83233482"
      },
      "execution_count": null,
      "outputs": [
        {
          "output_type": "display_data",
          "data": {
            "image/png": "[encoded data removed]",
            "text/plain": [
              "<Figure size 432x288 with 1 Axes>"
            ]
          },
          "metadata": {
            "needs_background": "light"
          }
        },
        {
          "output_type": "display_data",
          "data": {
            "image/png": "[encoded data removed]",
            "text/plain": [
              "<Figure size 432x288 with 1 Axes>"
            ]
          },
          "metadata": {
            "needs_background": "light"
          }
        }
      ]
    },
    {
      "cell_type": "code",
      "source": [
        "preds= SEGNET.predict(x_test)"
      ],
      "metadata": {
        "id": "_5eYLCXYRVbO"
      },
      "execution_count": null,
      "outputs": []
    },
    {
      "cell_type": "code",
      "source": [
        "loss, accuracy= SEGNET.evaluate(x_test, y_test)"
      ],
      "metadata": {
        "colab": {
          "base_uri": "https://localhost:8080/"
        },
        "id": "AirhCJJBS8nr",
        "outputId": "18063088-0461-447d-df43-4e96a813d345"
      },
      "execution_count": null,
      "outputs": [
        {
          "output_type": "stream",
          "name": "stdout",
          "text": [
            "1/1 [==============================] - 0s 230ms/step - loss: 0.5582 - accuracy: 0.7780\n"
          ]
        }
      ]
    }
  ]
}